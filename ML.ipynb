{
  "nbformat": 4,
  "nbformat_minor": 0,
  "metadata": {
    "colab": {
      "provenance": []
    },
    "kernelspec": {
      "name": "python3",
      "display_name": "Python 3"
    },
    "language_info": {
      "name": "python"
    }
  },
  "cells": [
    {
      "cell_type": "code",
      "execution_count": null,
      "metadata": {
        "id": "p2lKGR4nO-aN"
      },
      "outputs": [],
      "source": [
        "import pandas as pd\n",
        "import numpy as np\n",
        "import matplotlib.pyplot as plt\n",
        "import os\n"
      ]
    },
    {
      "cell_type": "code",
      "source": [
        "directorio=\"https://raw.githubusercontent.com/cagomezv/Electiva_ML/main/\"   #Direccion de acceso a GitHub\n",
        "base_data_mensual=\"housing_in_london_monthly_variables.csv\"       #Acceso a archivo de base de datos 1\n",
        "base_data_anual=\"housing_in_london_yearly_variables.csv\"          #Acceso a archivo de base de datos 2\n",
        "df1=pd.read_csv(directorio+base_data_mensual)                     #Carga de base de datos a dataframe\n",
        "df2=pd.read_csv(directorio+base_data_anual)\n",
        "df2=df2.filter(items=[\"median_salary\",\"area\",\"date\"])           #Extraer tres caracteristicas del df2\n",
        "\n",
        "data=pd.merge(df1,df2)            #Unir los dos dataframe\n",
        "data    #Mostrara primeros 5 registros de el dataframe denominado data."
      ],
      "metadata": {
        "colab": {
          "base_uri": "https://localhost:8080/",
          "height": 423
        },
        "id": "CpAu6K2HPRdZ",
        "outputId": "5f3f5df5-5217-4246-9c33-f17049923675"
      },
      "execution_count": null,
      "outputs": [
        {
          "output_type": "execute_result",
          "data": {
            "text/plain": [
              "           date            area  average_price       code  houses_sold  \\\n",
              "0    1999-12-01  city of london         169309  E09000001         97.0   \n",
              "1    2000-12-01  city of london         314772  E09000001         33.0   \n",
              "2    2001-12-01  city of london         362204  E09000001         17.0   \n",
              "3    2002-12-01  city of london         262197  E09000001         44.0   \n",
              "4    2003-12-01  city of london         305556  E09000001         38.0   \n",
              "..          ...             ...            ...        ...          ...   \n",
              "898  2015-12-01         england         219582  E92000001     80,366.0   \n",
              "899  2016-12-01         england         231922  E92000001     79,605.0   \n",
              "900  2017-12-01         england         242378  E92000001     76,522.0   \n",
              "901  2018-12-01         england         246518  E92000001     69,456.0   \n",
              "902  2019-12-01         england         250410  E92000001          NaN   \n",
              "\n",
              "     no_of_crimes  borough_flag  median_salary  \n",
              "0             NaN             1       33,020.0  \n",
              "1             NaN             1       34,903.0  \n",
              "2             0.0             1       39,104.0  \n",
              "3             0.0             1       39,750.0  \n",
              "4             0.0             1       41,795.0  \n",
              "..            ...           ...            ...  \n",
              "898           NaN             0       27,841.0  \n",
              "899           NaN             0       28,496.0  \n",
              "900           NaN             0       29,083.0  \n",
              "901           NaN             0       29,856.0  \n",
              "902           NaN             0       30,667.0  \n",
              "\n",
              "[903 rows x 8 columns]"
            ],
            "text/html": [
              "\n",
              "  <div id=\"df-3faba6fd-fcb7-4270-999f-73dad4f9dd1f\">\n",
              "    <div class=\"colab-df-container\">\n",
              "      <div>\n",
              "<style scoped>\n",
              "    .dataframe tbody tr th:only-of-type {\n",
              "        vertical-align: middle;\n",
              "    }\n",
              "\n",
              "    .dataframe tbody tr th {\n",
              "        vertical-align: top;\n",
              "    }\n",
              "\n",
              "    .dataframe thead th {\n",
              "        text-align: right;\n",
              "    }\n",
              "</style>\n",
              "<table border=\"1\" class=\"dataframe\">\n",
              "  <thead>\n",
              "    <tr style=\"text-align: right;\">\n",
              "      <th></th>\n",
              "      <th>date</th>\n",
              "      <th>area</th>\n",
              "      <th>average_price</th>\n",
              "      <th>code</th>\n",
              "      <th>houses_sold</th>\n",
              "      <th>no_of_crimes</th>\n",
              "      <th>borough_flag</th>\n",
              "      <th>median_salary</th>\n",
              "    </tr>\n",
              "  </thead>\n",
              "  <tbody>\n",
              "    <tr>\n",
              "      <th>0</th>\n",
              "      <td>1999-12-01</td>\n",
              "      <td>city of london</td>\n",
              "      <td>169309</td>\n",
              "      <td>E09000001</td>\n",
              "      <td>97.0</td>\n",
              "      <td>NaN</td>\n",
              "      <td>1</td>\n",
              "      <td>33,020.0</td>\n",
              "    </tr>\n",
              "    <tr>\n",
              "      <th>1</th>\n",
              "      <td>2000-12-01</td>\n",
              "      <td>city of london</td>\n",
              "      <td>314772</td>\n",
              "      <td>E09000001</td>\n",
              "      <td>33.0</td>\n",
              "      <td>NaN</td>\n",
              "      <td>1</td>\n",
              "      <td>34,903.0</td>\n",
              "    </tr>\n",
              "    <tr>\n",
              "      <th>2</th>\n",
              "      <td>2001-12-01</td>\n",
              "      <td>city of london</td>\n",
              "      <td>362204</td>\n",
              "      <td>E09000001</td>\n",
              "      <td>17.0</td>\n",
              "      <td>0.0</td>\n",
              "      <td>1</td>\n",
              "      <td>39,104.0</td>\n",
              "    </tr>\n",
              "    <tr>\n",
              "      <th>3</th>\n",
              "      <td>2002-12-01</td>\n",
              "      <td>city of london</td>\n",
              "      <td>262197</td>\n",
              "      <td>E09000001</td>\n",
              "      <td>44.0</td>\n",
              "      <td>0.0</td>\n",
              "      <td>1</td>\n",
              "      <td>39,750.0</td>\n",
              "    </tr>\n",
              "    <tr>\n",
              "      <th>4</th>\n",
              "      <td>2003-12-01</td>\n",
              "      <td>city of london</td>\n",
              "      <td>305556</td>\n",
              "      <td>E09000001</td>\n",
              "      <td>38.0</td>\n",
              "      <td>0.0</td>\n",
              "      <td>1</td>\n",
              "      <td>41,795.0</td>\n",
              "    </tr>\n",
              "    <tr>\n",
              "      <th>...</th>\n",
              "      <td>...</td>\n",
              "      <td>...</td>\n",
              "      <td>...</td>\n",
              "      <td>...</td>\n",
              "      <td>...</td>\n",
              "      <td>...</td>\n",
              "      <td>...</td>\n",
              "      <td>...</td>\n",
              "    </tr>\n",
              "    <tr>\n",
              "      <th>898</th>\n",
              "      <td>2015-12-01</td>\n",
              "      <td>england</td>\n",
              "      <td>219582</td>\n",
              "      <td>E92000001</td>\n",
              "      <td>80,366.0</td>\n",
              "      <td>NaN</td>\n",
              "      <td>0</td>\n",
              "      <td>27,841.0</td>\n",
              "    </tr>\n",
              "    <tr>\n",
              "      <th>899</th>\n",
              "      <td>2016-12-01</td>\n",
              "      <td>england</td>\n",
              "      <td>231922</td>\n",
              "      <td>E92000001</td>\n",
              "      <td>79,605.0</td>\n",
              "      <td>NaN</td>\n",
              "      <td>0</td>\n",
              "      <td>28,496.0</td>\n",
              "    </tr>\n",
              "    <tr>\n",
              "      <th>900</th>\n",
              "      <td>2017-12-01</td>\n",
              "      <td>england</td>\n",
              "      <td>242378</td>\n",
              "      <td>E92000001</td>\n",
              "      <td>76,522.0</td>\n",
              "      <td>NaN</td>\n",
              "      <td>0</td>\n",
              "      <td>29,083.0</td>\n",
              "    </tr>\n",
              "    <tr>\n",
              "      <th>901</th>\n",
              "      <td>2018-12-01</td>\n",
              "      <td>england</td>\n",
              "      <td>246518</td>\n",
              "      <td>E92000001</td>\n",
              "      <td>69,456.0</td>\n",
              "      <td>NaN</td>\n",
              "      <td>0</td>\n",
              "      <td>29,856.0</td>\n",
              "    </tr>\n",
              "    <tr>\n",
              "      <th>902</th>\n",
              "      <td>2019-12-01</td>\n",
              "      <td>england</td>\n",
              "      <td>250410</td>\n",
              "      <td>E92000001</td>\n",
              "      <td>NaN</td>\n",
              "      <td>NaN</td>\n",
              "      <td>0</td>\n",
              "      <td>30,667.0</td>\n",
              "    </tr>\n",
              "  </tbody>\n",
              "</table>\n",
              "<p>903 rows × 8 columns</p>\n",
              "</div>\n",
              "      <button class=\"colab-df-convert\" onclick=\"convertToInteractive('df-3faba6fd-fcb7-4270-999f-73dad4f9dd1f')\"\n",
              "              title=\"Convert this dataframe to an interactive table.\"\n",
              "              style=\"display:none;\">\n",
              "        \n",
              "  <svg xmlns=\"http://www.w3.org/2000/svg\" height=\"24px\"viewBox=\"0 0 24 24\"\n",
              "       width=\"24px\">\n",
              "    <path d=\"M0 0h24v24H0V0z\" fill=\"none\"/>\n",
              "    <path d=\"M18.56 5.44l.94 2.06.94-2.06 2.06-.94-2.06-.94-.94-2.06-.94 2.06-2.06.94zm-11 1L8.5 8.5l.94-2.06 2.06-.94-2.06-.94L8.5 2.5l-.94 2.06-2.06.94zm10 10l.94 2.06.94-2.06 2.06-.94-2.06-.94-.94-2.06-.94 2.06-2.06.94z\"/><path d=\"M17.41 7.96l-1.37-1.37c-.4-.4-.92-.59-1.43-.59-.52 0-1.04.2-1.43.59L10.3 9.45l-7.72 7.72c-.78.78-.78 2.05 0 2.83L4 21.41c.39.39.9.59 1.41.59.51 0 1.02-.2 1.41-.59l7.78-7.78 2.81-2.81c.8-.78.8-2.07 0-2.86zM5.41 20L4 18.59l7.72-7.72 1.47 1.35L5.41 20z\"/>\n",
              "  </svg>\n",
              "      </button>\n",
              "      \n",
              "  <style>\n",
              "    .colab-df-container {\n",
              "      display:flex;\n",
              "      flex-wrap:wrap;\n",
              "      gap: 12px;\n",
              "    }\n",
              "\n",
              "    .colab-df-convert {\n",
              "      background-color: #E8F0FE;\n",
              "      border: none;\n",
              "      border-radius: 50%;\n",
              "      cursor: pointer;\n",
              "      display: none;\n",
              "      fill: #1967D2;\n",
              "      height: 32px;\n",
              "      padding: 0 0 0 0;\n",
              "      width: 32px;\n",
              "    }\n",
              "\n",
              "    .colab-df-convert:hover {\n",
              "      background-color: #E2EBFA;\n",
              "      box-shadow: 0px 1px 2px rgba(60, 64, 67, 0.3), 0px 1px 3px 1px rgba(60, 64, 67, 0.15);\n",
              "      fill: #174EA6;\n",
              "    }\n",
              "\n",
              "    [theme=dark] .colab-df-convert {\n",
              "      background-color: #3B4455;\n",
              "      fill: #D2E3FC;\n",
              "    }\n",
              "\n",
              "    [theme=dark] .colab-df-convert:hover {\n",
              "      background-color: #434B5C;\n",
              "      box-shadow: 0px 1px 3px 1px rgba(0, 0, 0, 0.15);\n",
              "      filter: drop-shadow(0px 1px 2px rgba(0, 0, 0, 0.3));\n",
              "      fill: #FFFFFF;\n",
              "    }\n",
              "  </style>\n",
              "\n",
              "      <script>\n",
              "        const buttonEl =\n",
              "          document.querySelector('#df-3faba6fd-fcb7-4270-999f-73dad4f9dd1f button.colab-df-convert');\n",
              "        buttonEl.style.display =\n",
              "          google.colab.kernel.accessAllowed ? 'block' : 'none';\n",
              "\n",
              "        async function convertToInteractive(key) {\n",
              "          const element = document.querySelector('#df-3faba6fd-fcb7-4270-999f-73dad4f9dd1f');\n",
              "          const dataTable =\n",
              "            await google.colab.kernel.invokeFunction('convertToInteractive',\n",
              "                                                     [key], {});\n",
              "          if (!dataTable) return;\n",
              "\n",
              "          const docLinkHtml = 'Like what you see? Visit the ' +\n",
              "            '<a target=\"_blank\" href=https://colab.research.google.com/notebooks/data_table.ipynb>data table notebook</a>'\n",
              "            + ' to learn more about interactive tables.';\n",
              "          element.innerHTML = '';\n",
              "          dataTable['output_type'] = 'display_data';\n",
              "          await google.colab.output.renderOutput(dataTable, element);\n",
              "          const docLink = document.createElement('div');\n",
              "          docLink.innerHTML = docLinkHtml;\n",
              "          element.appendChild(docLink);\n",
              "        }\n",
              "      </script>\n",
              "    </div>\n",
              "  </div>\n",
              "  "
            ]
          },
          "metadata": {},
          "execution_count": 8
        }
      ]
    },
    {
      "cell_type": "code",
      "source": [
        "data.info()"
      ],
      "metadata": {
        "colab": {
          "base_uri": "https://localhost:8080/"
        },
        "id": "R1M_kJfyRRs0",
        "outputId": "a669bbb3-c3aa-442b-94d0-79b9a0c7ed7d"
      },
      "execution_count": null,
      "outputs": [
        {
          "output_type": "stream",
          "name": "stdout",
          "text": [
            "<class 'pandas.core.frame.DataFrame'>\n",
            "Int64Index: 903 entries, 0 to 902\n",
            "Data columns (total 8 columns):\n",
            " #   Column         Non-Null Count  Dtype  \n",
            "---  ------         --------------  -----  \n",
            " 0   date           903 non-null    object \n",
            " 1   area           903 non-null    object \n",
            " 2   average_price  903 non-null    int64  \n",
            " 3   code           903 non-null    object \n",
            " 4   houses_sold    860 non-null    float64\n",
            " 5   no_of_crimes   617 non-null    float64\n",
            " 6   borough_flag   903 non-null    int64  \n",
            " 7   median_salary  881 non-null    float64\n",
            "dtypes: float64(3), int64(2), object(3)\n",
            "memory usage: 63.5+ KB\n"
          ]
        }
      ]
    },
    {
      "cell_type": "code",
      "source": [
        "data[\"area\"].value_counts()"
      ],
      "metadata": {
        "colab": {
          "base_uri": "https://localhost:8080/"
        },
        "id": "8TDeAY4lXL5n",
        "outputId": "3611ef80-1f59-4eb1-d351-8612e5c0519b"
      },
      "execution_count": null,
      "outputs": [
        {
          "output_type": "execute_result",
          "data": {
            "text/plain": [
              "city of london            21\n",
              "westminster               21\n",
              "newham                    21\n",
              "redbridge                 21\n",
              "richmond upon thames      21\n",
              "southwark                 21\n",
              "sutton                    21\n",
              "tower hamlets             21\n",
              "waltham forest            21\n",
              "wandsworth                21\n",
              "inner london              21\n",
              "lewisham                  21\n",
              "outer london              21\n",
              "north east                21\n",
              "north west                21\n",
              "east midlands             21\n",
              "west midlands             21\n",
              "london                    21\n",
              "south east                21\n",
              "south west                21\n",
              "merton                    21\n",
              "lambeth                   21\n",
              "barking and dagenham      21\n",
              "greenwich                 21\n",
              "barnet                    21\n",
              "bexley                    21\n",
              "brent                     21\n",
              "bromley                   21\n",
              "camden                    21\n",
              "croydon                   21\n",
              "ealing                    21\n",
              "enfield                   21\n",
              "hackney                   21\n",
              "kingston upon thames      21\n",
              "hammersmith and fulham    21\n",
              "haringey                  21\n",
              "harrow                    21\n",
              "havering                  21\n",
              "hillingdon                21\n",
              "hounslow                  21\n",
              "islington                 21\n",
              "kensington and chelsea    21\n",
              "england                   21\n",
              "Name: area, dtype: int64"
            ]
          },
          "metadata": {},
          "execution_count": 5
        }
      ]
    },
    {
      "cell_type": "code",
      "source": [
        "pd.options.display.float_format='{:,.1f}'.format\n",
        "data.describe()"
      ],
      "metadata": {
        "colab": {
          "base_uri": "https://localhost:8080/",
          "height": 300
        },
        "id": "iFMcOBuZX9SD",
        "outputId": "15b4836f-b6f4-41d6-a123-c73162290254"
      },
      "execution_count": null,
      "outputs": [
        {
          "output_type": "execute_result",
          "data": {
            "text/plain": [
              "       average_price  houses_sold  no_of_crimes  borough_flag  median_salary\n",
              "count          903.0        860.0         617.0         903.0          881.0\n",
              "mean       309,916.9      3,853.3       2,038.1           0.8       28,789.3\n",
              "std        187,527.4     12,917.7         879.5           0.4        6,508.3\n",
              "min         48,298.0          6.0           0.0           0.0       15,684.0\n",
              "25%        189,287.0        246.0       1,542.0           1.0       24,582.0\n",
              "50%        260,893.0        351.0       2,008.0           1.0       28,284.0\n",
              "75%        387,597.0        626.0       2,402.0           1.0       31,589.0\n",
              "max      1,364,185.0    119,458.0       7,461.0           1.0       61,636.0"
            ],
            "text/html": [
              "\n",
              "  <div id=\"df-f131de79-6d3e-4ba7-8fb9-536bc327215e\">\n",
              "    <div class=\"colab-df-container\">\n",
              "      <div>\n",
              "<style scoped>\n",
              "    .dataframe tbody tr th:only-of-type {\n",
              "        vertical-align: middle;\n",
              "    }\n",
              "\n",
              "    .dataframe tbody tr th {\n",
              "        vertical-align: top;\n",
              "    }\n",
              "\n",
              "    .dataframe thead th {\n",
              "        text-align: right;\n",
              "    }\n",
              "</style>\n",
              "<table border=\"1\" class=\"dataframe\">\n",
              "  <thead>\n",
              "    <tr style=\"text-align: right;\">\n",
              "      <th></th>\n",
              "      <th>average_price</th>\n",
              "      <th>houses_sold</th>\n",
              "      <th>no_of_crimes</th>\n",
              "      <th>borough_flag</th>\n",
              "      <th>median_salary</th>\n",
              "    </tr>\n",
              "  </thead>\n",
              "  <tbody>\n",
              "    <tr>\n",
              "      <th>count</th>\n",
              "      <td>903.0</td>\n",
              "      <td>860.0</td>\n",
              "      <td>617.0</td>\n",
              "      <td>903.0</td>\n",
              "      <td>881.0</td>\n",
              "    </tr>\n",
              "    <tr>\n",
              "      <th>mean</th>\n",
              "      <td>309,916.9</td>\n",
              "      <td>3,853.3</td>\n",
              "      <td>2,038.1</td>\n",
              "      <td>0.8</td>\n",
              "      <td>28,789.3</td>\n",
              "    </tr>\n",
              "    <tr>\n",
              "      <th>std</th>\n",
              "      <td>187,527.4</td>\n",
              "      <td>12,917.7</td>\n",
              "      <td>879.5</td>\n",
              "      <td>0.4</td>\n",
              "      <td>6,508.3</td>\n",
              "    </tr>\n",
              "    <tr>\n",
              "      <th>min</th>\n",
              "      <td>48,298.0</td>\n",
              "      <td>6.0</td>\n",
              "      <td>0.0</td>\n",
              "      <td>0.0</td>\n",
              "      <td>15,684.0</td>\n",
              "    </tr>\n",
              "    <tr>\n",
              "      <th>25%</th>\n",
              "      <td>189,287.0</td>\n",
              "      <td>246.0</td>\n",
              "      <td>1,542.0</td>\n",
              "      <td>1.0</td>\n",
              "      <td>24,582.0</td>\n",
              "    </tr>\n",
              "    <tr>\n",
              "      <th>50%</th>\n",
              "      <td>260,893.0</td>\n",
              "      <td>351.0</td>\n",
              "      <td>2,008.0</td>\n",
              "      <td>1.0</td>\n",
              "      <td>28,284.0</td>\n",
              "    </tr>\n",
              "    <tr>\n",
              "      <th>75%</th>\n",
              "      <td>387,597.0</td>\n",
              "      <td>626.0</td>\n",
              "      <td>2,402.0</td>\n",
              "      <td>1.0</td>\n",
              "      <td>31,589.0</td>\n",
              "    </tr>\n",
              "    <tr>\n",
              "      <th>max</th>\n",
              "      <td>1,364,185.0</td>\n",
              "      <td>119,458.0</td>\n",
              "      <td>7,461.0</td>\n",
              "      <td>1.0</td>\n",
              "      <td>61,636.0</td>\n",
              "    </tr>\n",
              "  </tbody>\n",
              "</table>\n",
              "</div>\n",
              "      <button class=\"colab-df-convert\" onclick=\"convertToInteractive('df-f131de79-6d3e-4ba7-8fb9-536bc327215e')\"\n",
              "              title=\"Convert this dataframe to an interactive table.\"\n",
              "              style=\"display:none;\">\n",
              "        \n",
              "  <svg xmlns=\"http://www.w3.org/2000/svg\" height=\"24px\"viewBox=\"0 0 24 24\"\n",
              "       width=\"24px\">\n",
              "    <path d=\"M0 0h24v24H0V0z\" fill=\"none\"/>\n",
              "    <path d=\"M18.56 5.44l.94 2.06.94-2.06 2.06-.94-2.06-.94-.94-2.06-.94 2.06-2.06.94zm-11 1L8.5 8.5l.94-2.06 2.06-.94-2.06-.94L8.5 2.5l-.94 2.06-2.06.94zm10 10l.94 2.06.94-2.06 2.06-.94-2.06-.94-.94-2.06-.94 2.06-2.06.94z\"/><path d=\"M17.41 7.96l-1.37-1.37c-.4-.4-.92-.59-1.43-.59-.52 0-1.04.2-1.43.59L10.3 9.45l-7.72 7.72c-.78.78-.78 2.05 0 2.83L4 21.41c.39.39.9.59 1.41.59.51 0 1.02-.2 1.41-.59l7.78-7.78 2.81-2.81c.8-.78.8-2.07 0-2.86zM5.41 20L4 18.59l7.72-7.72 1.47 1.35L5.41 20z\"/>\n",
              "  </svg>\n",
              "      </button>\n",
              "      \n",
              "  <style>\n",
              "    .colab-df-container {\n",
              "      display:flex;\n",
              "      flex-wrap:wrap;\n",
              "      gap: 12px;\n",
              "    }\n",
              "\n",
              "    .colab-df-convert {\n",
              "      background-color: #E8F0FE;\n",
              "      border: none;\n",
              "      border-radius: 50%;\n",
              "      cursor: pointer;\n",
              "      display: none;\n",
              "      fill: #1967D2;\n",
              "      height: 32px;\n",
              "      padding: 0 0 0 0;\n",
              "      width: 32px;\n",
              "    }\n",
              "\n",
              "    .colab-df-convert:hover {\n",
              "      background-color: #E2EBFA;\n",
              "      box-shadow: 0px 1px 2px rgba(60, 64, 67, 0.3), 0px 1px 3px 1px rgba(60, 64, 67, 0.15);\n",
              "      fill: #174EA6;\n",
              "    }\n",
              "\n",
              "    [theme=dark] .colab-df-convert {\n",
              "      background-color: #3B4455;\n",
              "      fill: #D2E3FC;\n",
              "    }\n",
              "\n",
              "    [theme=dark] .colab-df-convert:hover {\n",
              "      background-color: #434B5C;\n",
              "      box-shadow: 0px 1px 3px 1px rgba(0, 0, 0, 0.15);\n",
              "      filter: drop-shadow(0px 1px 2px rgba(0, 0, 0, 0.3));\n",
              "      fill: #FFFFFF;\n",
              "    }\n",
              "  </style>\n",
              "\n",
              "      <script>\n",
              "        const buttonEl =\n",
              "          document.querySelector('#df-f131de79-6d3e-4ba7-8fb9-536bc327215e button.colab-df-convert');\n",
              "        buttonEl.style.display =\n",
              "          google.colab.kernel.accessAllowed ? 'block' : 'none';\n",
              "\n",
              "        async function convertToInteractive(key) {\n",
              "          const element = document.querySelector('#df-f131de79-6d3e-4ba7-8fb9-536bc327215e');\n",
              "          const dataTable =\n",
              "            await google.colab.kernel.invokeFunction('convertToInteractive',\n",
              "                                                     [key], {});\n",
              "          if (!dataTable) return;\n",
              "\n",
              "          const docLinkHtml = 'Like what you see? Visit the ' +\n",
              "            '<a target=\"_blank\" href=https://colab.research.google.com/notebooks/data_table.ipynb>data table notebook</a>'\n",
              "            + ' to learn more about interactive tables.';\n",
              "          element.innerHTML = '';\n",
              "          dataTable['output_type'] = 'display_data';\n",
              "          await google.colab.output.renderOutput(dataTable, element);\n",
              "          const docLink = document.createElement('div');\n",
              "          docLink.innerHTML = docLinkHtml;\n",
              "          element.appendChild(docLink);\n",
              "        }\n",
              "      </script>\n",
              "    </div>\n",
              "  </div>\n",
              "  "
            ]
          },
          "metadata": {},
          "execution_count": 6
        }
      ]
    },
    {
      "cell_type": "markdown",
      "source": [
        "Los datos s de de d dkajd kljfjasfd kjfksamfd sdf,mnsdldfsdmfmnd interpretacion de los datos "
      ],
      "metadata": {
        "id": "oaSS8ExXfSPi"
      }
    },
    {
      "cell_type": "code",
      "source": [
        "#Histograma basico\n",
        "data.hist(bins=50,figsize=(15,10))\n",
        "plt.show()\n",
        "\n",
        "\n",
        "#Histograma mas elaborado con matplotlib\n",
        "plt.hist(x=data[\"average_price\"],color='green', rwidth=0.85)\n",
        "plt.title(\"Histograma de precios\")\n",
        "plt.show()"
      ],
      "metadata": {
        "colab": {
          "base_uri": "https://localhost:8080/",
          "height": 884
        },
        "id": "huHwVH-8YPN9",
        "outputId": "d8ece19f-ffb5-45c3-f904-6ce0b9259edb"
      },
      "execution_count": null,
      "outputs": [
        {
          "output_type": "display_data",
          "data": {
            "text/plain": [
              "<Figure size 1080x720 with 6 Axes>"
            ],
            "image/png": "[encoded data removed]"
          },
          "metadata": {
            "needs_background": "light"
          }
        },
        {
          "output_type": "display_data",
          "data": {
            "text/plain": [
              "<Figure size 432x288 with 1 Axes>"
            ],
            "image/png": "[encoded data removed]"
          },
          "metadata": {
            "needs_background": "light"
          }
        }
      ]
    },
    {
      "cell_type": "code",
      "source": [
        "from sklearn.model_selection import train_test_split\n",
        "set_ent,set_prueba =train_test_split(data, test_size=0.3,random_state=45)\n",
        "\n"
      ],
      "metadata": {
        "id": "JpAt8D1vc6SG",
        "colab": {
          "base_uri": "https://localhost:8080/"
        },
        "outputId": "9a79d631-0fc0-4cb7-d1e7-6abd465d5da5"
      },
      "execution_count": null,
      "outputs": [
        {
          "output_type": "stream",
          "name": "stdout",
          "text": [
            "632 271\n"
          ]
        }
      ]
    },
    {
      "cell_type": "code",
      "source": [
        "# Adicionar una columna donde puede categorizar los salarios.\n",
        "\n",
        "data[\"salary_cat\"]=pd.cut(data[\"median_salary\"],bins=[0.,10000,20000,30000,40000,np.inf], labels=[1,2,3,4,5])"
      ],
      "metadata": {
        "id": "DmjX0KQ1Gwp_"
      },
      "execution_count": null,
      "outputs": []
    },
    {
      "cell_type": "code",
      "source": [
        "data[\"salary_cat\"].hist()"
      ],
      "metadata": {
        "colab": {
          "base_uri": "https://localhost:8080/",
          "height": 282
        },
        "id": "RY3mNbC5Iin0",
        "outputId": "55deb65d-0297-4724-f932-ea5d3f74aca5"
      },
      "execution_count": null,
      "outputs": [
        {
          "output_type": "execute_result",
          "data": {
            "text/plain": [
              "<AxesSubplot:>"
            ]
          },
          "metadata": {},
          "execution_count": 23
        },
        {
          "output_type": "display_data",
          "data": {
            "text/plain": [
              "<Figure size 432x288 with 1 Axes>"
            ],
            "image/png": "[encoded data removed]"
          },
          "metadata": {
            "needs_background": "light"
          }
        }
      ]
    },
    {
      "cell_type": "code",
      "source": [
        "data[\"salary_cat\"].value_counts()"
      ],
      "metadata": {
        "colab": {
          "base_uri": "https://localhost:8080/"
        },
        "id": "EkuKQBcCIp7D",
        "outputId": "431b9654-d482-4caf-c455-19e91cb025af"
      },
      "execution_count": null,
      "outputs": [
        {
          "output_type": "execute_result",
          "data": {
            "text/plain": [
              "3    496\n",
              "4    287\n",
              "2     59\n",
              "5     39\n",
              "1      0\n",
              "Name: salary_cat, dtype: int64"
            ]
          },
          "metadata": {},
          "execution_count": 24
        }
      ]
    },
    {
      "cell_type": "code",
      "source": [
        "data=data.dropna(subset=[\"median_salary\"])\n",
        "data=data.reset_index()\n",
        "data[\"salary_cat\"]=pd.cut(data[\"median_salary\"],bins=[10000,20000,30000,40000,np.inf], labels=[1,2,3,4])\n",
        "data[\"salary_cat\"].hist()\n"
      ],
      "metadata": {
        "colab": {
          "base_uri": "https://localhost:8080/",
          "height": 282
        },
        "id": "MQ3zCMtsJPyB",
        "outputId": "f3094f70-8f5a-4a2b-dd1d-8a3862ed856d"
      },
      "execution_count": null,
      "outputs": [
        {
          "output_type": "execute_result",
          "data": {
            "text/plain": [
              "<AxesSubplot:>"
            ]
          },
          "metadata": {},
          "execution_count": 25
        },
        {
          "output_type": "display_data",
          "data": {
            "text/plain": [
              "<Figure size 432x288 with 1 Axes>"
            ],
            "image/png": "[encoded data removed]"
          },
          "metadata": {
            "needs_background": "light"
          }
        }
      ]
    },
    {
      "cell_type": "code",
      "source": [
        "data[\"salary_cat\"].value_counts()"
      ],
      "metadata": {
        "colab": {
          "base_uri": "https://localhost:8080/"
        },
        "id": "J92--sqwKc_b",
        "outputId": "abb5e3c8-2344-4336-eb23-3eccb55402fc"
      },
      "execution_count": null,
      "outputs": [
        {
          "output_type": "execute_result",
          "data": {
            "text/plain": [
              "2    496\n",
              "3    287\n",
              "1     59\n",
              "4     39\n",
              "Name: salary_cat, dtype: int64"
            ]
          },
          "metadata": {},
          "execution_count": 26
        }
      ]
    },
    {
      "cell_type": "code",
      "source": [
        "from sklearn.model_selection import StratifiedShuffleSplit\n",
        "split=StratifiedShuffleSplit(n_splits=1, test_size=0.3, random_state=45)\n",
        "\n",
        "for ent_index, prueba_index in split.split(data,data[\"salary_cat\"]):\n",
        "  cat_set_ent=data.loc[ent_index]\n",
        "  cat_set_prueba=data.loc[prueba_index]"
      ],
      "metadata": {
        "id": "vziDlsXTKhST"
      },
      "execution_count": null,
      "outputs": []
    },
    {
      "cell_type": "code",
      "source": [
        "cat_set_prueba[\"salary_cat\"].value_counts()"
      ],
      "metadata": {
        "colab": {
          "base_uri": "https://localhost:8080/"
        },
        "id": "LbZpQWqANpz8",
        "outputId": "ecfd9fd5-6856-41c0-86e4-9e44174fdb62"
      },
      "execution_count": null,
      "outputs": [
        {
          "output_type": "execute_result",
          "data": {
            "text/plain": [
              "2    149\n",
              "3     86\n",
              "1     18\n",
              "4     12\n",
              "Name: salary_cat, dtype: int64"
            ]
          },
          "metadata": {},
          "execution_count": 40
        }
      ]
    },
    {
      "cell_type": "code",
      "source": [],
      "metadata": {
        "id": "gPFl8ucIPjQK"
      },
      "execution_count": null,
      "outputs": []
    }
  ]
}